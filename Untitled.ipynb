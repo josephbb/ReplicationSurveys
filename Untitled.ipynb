{
 "cells": [
  {
   "cell_type": "code",
   "execution_count": 1,
   "id": "a31ca74f-3cbd-492a-8d36-4b6ffcb9586a",
   "metadata": {},
   "outputs": [
    {
     "name": "stdout",
     "output_type": "stream",
     "text": [
      "Requirement already satisfied: polars in /opt/conda/lib/python3.9/site-packages (0.13.11)\n",
      "Requirement already satisfied: numpy>=1.16.0 in /opt/conda/lib/python3.9/site-packages (from polars) (1.21.5)\n",
      "Requirement already satisfied: typing_extensions>=4.0.0 in /opt/conda/lib/python3.9/site-packages (from polars) (4.1.1)\n",
      "Requirement already satisfied: pyarrow in /opt/conda/lib/python3.9/site-packages (7.0.0)\n",
      "Requirement already satisfied: numpy>=1.16.6 in /opt/conda/lib/python3.9/site-packages (from pyarrow) (1.21.5)\n"
     ]
    }
   ],
   "source": [
    "!pip install polars\n",
    "import numpy as np\n",
    "import arviz as az\n",
    "import matplotlib.pyplot as plt\n",
    "import pymc3 as pm\n",
    "import pandas as pd\n",
    "import polars as pl\n",
    "import theano\n",
    "import seaborn as sns\n",
    "!pip install pyarrow\n",
    "from statsmodels.stats.power import tt_ind_solve_power\n",
    "%matplotlib inline\n",
    "\n",
    "from src.simulations import *\n",
    "from src.plotting import *\n",
    "from src.modeling import *\n",
    "\n",
    "#Convert effect sizes from r to Cohen's D \n",
    "r_to_d = lambda r: r/np.sqrt(1-r**2)"
   ]
  },
  {
   "cell_type": "code",
   "execution_count": null,
   "id": "d815147c-57ab-47bd-b1df-be9fd36e6dd5",
   "metadata": {},
   "outputs": [],
   "source": []
  },
  {
   "cell_type": "code",
   "execution_count": 2,
   "id": "bce21f87-7443-4f36-ae49-56cbd2b9ed19",
   "metadata": {
    "tags": []
   },
   "outputs": [
    {
     "name": "stderr",
     "output_type": "stream",
     "text": [
      "/opt/conda/lib/python3.9/site-packages/polars/internals/frame.py:1561: UserWarning: setting a DataFrame by indexing is deprecated; Consider using DataFrame.with_column\n",
      "  warnings.warn(\n"
     ]
    }
   ],
   "source": [
    "#Load RPP Data, randomize direction. \n",
    "df_psych = pl.read_csv('./data/rpp_data.csv',ignore_errors=True).filter(\n",
    "    (pl.col('T_pval_USE..R.').is_not_null()) & \n",
    "    (pl.col('T_pval_USE..O.').is_not_null()) &\n",
    "    (pl.col('T_r..R.').is_not_null()) &\n",
    "    (pl.col('T_r..O.').is_not_null()) \n",
    ").with_columns([\n",
    "    (r_to_d(pl.col('T_r..R.').cast(float))).alias(\"d_r\"),\n",
    "    (r_to_d(pl.col('T_r..O.').cast(float))).alias(\"d_o\"),\n",
    "    pl.col('N (R)').cast(int).alias(\"n_r\"),\n",
    "    pl.col('N (O)').cast(int).alias(\"n_o\"),\n",
    "]).select([\n",
    "    'd_o','d_r','n_o','n_r'\n",
    "]).filter((pl.col(\"n_o\") < 2000))\n",
    "df_psych.head(5)\n",
    "df_psych['direction'] = np.random.choice(np.array([-1,1]), df_psych.shape[0])"
   ]
  },
  {
   "cell_type": "code",
   "execution_count": 23,
   "id": "49f945d8-2b69-4d49-aa56-d15921308965",
   "metadata": {},
   "outputs": [
    {
     "data": {
      "application/vnd.jupyter.widget-view+json": {
       "model_id": "101d0133f5ef46c98a61bf41f82be698",
       "version_major": 2,
       "version_minor": 0
      },
      "text/plain": [
       "interactive(children=(IntSlider(value=9, description='n_colors', max=16, min=2), FloatSlider(value=0.0, descri…"
      ]
     },
     "metadata": {},
     "output_type": "display_data"
    },
    {
     "data": {
      "text/plain": [
       "[[0.9312692223325372, 0.8201921796082118, 0.7971480974663592],\n",
       " [0.8888663743660877, 0.7106793139856472, 0.7158661451411206],\n",
       " [0.8314793143949643, 0.5987041921652179, 0.6530062709235388],\n",
       " [0.7588951019517731, 0.49817117746394224, 0.6058723814510268],\n",
       " [0.6672565752652589, 0.40671838146419587, 0.5620016466433286],\n",
       " [0.5529215689527474, 0.3217924564263954, 0.5093718054521851],\n",
       " [0.43082755198027817, 0.24984535814964698, 0.44393960899639856],\n",
       " [0.29794615023641036, 0.18145907625614888, 0.35317781405034754],\n",
       " [0.1750865648952205, 0.11840023306916837, 0.24215989137836502]]"
      ]
     },
     "execution_count": 23,
     "metadata": {},
     "output_type": "execute_result"
    }
   ],
   "source": [
    "sns.choose_cubehelix_palette()"
   ]
  },
  {
   "cell_type": "code",
   "execution_count": null,
   "id": "9bdb3ce7-c8c6-4794-85a8-ab93bc4302a6",
   "metadata": {},
   "outputs": [],
   "source": []
  }
 ],
 "metadata": {
  "kernelspec": {
   "display_name": "Python 3 (ipykernel)",
   "language": "python",
   "name": "python3"
  },
  "language_info": {
   "codemirror_mode": {
    "name": "ipython",
    "version": 3
   },
   "file_extension": ".py",
   "mimetype": "text/x-python",
   "name": "python",
   "nbconvert_exporter": "python",
   "pygments_lexer": "ipython3",
   "version": "3.9.10"
  }
 },
 "nbformat": 4,
 "nbformat_minor": 5
}
